{
 "cells": [
  {
   "cell_type": "code",
   "execution_count": 8,
   "metadata": {
    "collapsed": true
   },
   "outputs": [],
   "source": [
    "import pandas as pd\n",
    "import numpy as np\n",
    "import warnings\n",
    "import seaborn as sns\n",
    "import matplotlib.pyplot as plt\n",
    "from sklearn import preprocessing\n",
    "from sklearn.model_selection import GridSearchCV\n",
    "from sklearn.metrics import accuracy_score,confusion_matrix,roc_curve\n",
    "warnings.filterwarnings(\"ignore\")\n",
    "sns.set(style=\"white\", color_codes=True)"
   ]
  },
  {
   "cell_type": "code",
   "execution_count": 9,
   "metadata": {
    "collapsed": true
   },
   "outputs": [],
   "source": [
    "col_names = ['age','workclass','fnlwgt','education','education_num','marital_status','occupation','relationship','race','sex','capital_gain','capital_loss','hours_per_week','native_country','class']\n",
    "df = pd.read_csv(\"train.txt\",header = 'infer',names = col_names,na_values = \" ?\")"
   ]
  },
  {
   "cell_type": "code",
   "execution_count": 10,
   "metadata": {
    "scrolled": false
   },
   "outputs": [
    {
     "data": {
      "text/html": [
       "<div>\n",
       "<style>\n",
       "    .dataframe thead tr:only-child th {\n",
       "        text-align: right;\n",
       "    }\n",
       "\n",
       "    .dataframe thead th {\n",
       "        text-align: left;\n",
       "    }\n",
       "\n",
       "    .dataframe tbody tr th {\n",
       "        vertical-align: top;\n",
       "    }\n",
       "</style>\n",
       "<table border=\"1\" class=\"dataframe\">\n",
       "  <thead>\n",
       "    <tr style=\"text-align: right;\">\n",
       "      <th></th>\n",
       "      <th>age</th>\n",
       "      <th>workclass</th>\n",
       "      <th>fnlwgt</th>\n",
       "      <th>education</th>\n",
       "      <th>education_num</th>\n",
       "      <th>marital_status</th>\n",
       "      <th>occupation</th>\n",
       "      <th>relationship</th>\n",
       "      <th>race</th>\n",
       "      <th>sex</th>\n",
       "      <th>capital_gain</th>\n",
       "      <th>capital_loss</th>\n",
       "      <th>hours_per_week</th>\n",
       "      <th>native_country</th>\n",
       "      <th>class</th>\n",
       "    </tr>\n",
       "  </thead>\n",
       "  <tbody>\n",
       "    <tr>\n",
       "      <th>0</th>\n",
       "      <td>39</td>\n",
       "      <td>State-gov</td>\n",
       "      <td>77516</td>\n",
       "      <td>Bachelors</td>\n",
       "      <td>13</td>\n",
       "      <td>Never-married</td>\n",
       "      <td>Adm-clerical</td>\n",
       "      <td>Not-in-family</td>\n",
       "      <td>White</td>\n",
       "      <td>Male</td>\n",
       "      <td>2174</td>\n",
       "      <td>0</td>\n",
       "      <td>40</td>\n",
       "      <td>United-States</td>\n",
       "      <td>&lt;=50K</td>\n",
       "    </tr>\n",
       "    <tr>\n",
       "      <th>1</th>\n",
       "      <td>50</td>\n",
       "      <td>Self-emp-not-inc</td>\n",
       "      <td>83311</td>\n",
       "      <td>Bachelors</td>\n",
       "      <td>13</td>\n",
       "      <td>Married-civ-spouse</td>\n",
       "      <td>Exec-managerial</td>\n",
       "      <td>Husband</td>\n",
       "      <td>White</td>\n",
       "      <td>Male</td>\n",
       "      <td>0</td>\n",
       "      <td>0</td>\n",
       "      <td>13</td>\n",
       "      <td>United-States</td>\n",
       "      <td>&lt;=50K</td>\n",
       "    </tr>\n",
       "    <tr>\n",
       "      <th>2</th>\n",
       "      <td>38</td>\n",
       "      <td>Private</td>\n",
       "      <td>215646</td>\n",
       "      <td>HS-grad</td>\n",
       "      <td>9</td>\n",
       "      <td>Divorced</td>\n",
       "      <td>Handlers-cleaners</td>\n",
       "      <td>Not-in-family</td>\n",
       "      <td>White</td>\n",
       "      <td>Male</td>\n",
       "      <td>0</td>\n",
       "      <td>0</td>\n",
       "      <td>40</td>\n",
       "      <td>United-States</td>\n",
       "      <td>&lt;=50K</td>\n",
       "    </tr>\n",
       "    <tr>\n",
       "      <th>3</th>\n",
       "      <td>53</td>\n",
       "      <td>Private</td>\n",
       "      <td>234721</td>\n",
       "      <td>11th</td>\n",
       "      <td>7</td>\n",
       "      <td>Married-civ-spouse</td>\n",
       "      <td>Handlers-cleaners</td>\n",
       "      <td>Husband</td>\n",
       "      <td>Black</td>\n",
       "      <td>Male</td>\n",
       "      <td>0</td>\n",
       "      <td>0</td>\n",
       "      <td>40</td>\n",
       "      <td>United-States</td>\n",
       "      <td>&lt;=50K</td>\n",
       "    </tr>\n",
       "    <tr>\n",
       "      <th>4</th>\n",
       "      <td>28</td>\n",
       "      <td>Private</td>\n",
       "      <td>338409</td>\n",
       "      <td>Bachelors</td>\n",
       "      <td>13</td>\n",
       "      <td>Married-civ-spouse</td>\n",
       "      <td>Prof-specialty</td>\n",
       "      <td>Wife</td>\n",
       "      <td>Black</td>\n",
       "      <td>Female</td>\n",
       "      <td>0</td>\n",
       "      <td>0</td>\n",
       "      <td>40</td>\n",
       "      <td>Cuba</td>\n",
       "      <td>&lt;=50K</td>\n",
       "    </tr>\n",
       "  </tbody>\n",
       "</table>\n",
       "</div>"
      ],
      "text/plain": [
       "   age          workclass  fnlwgt   education  education_num  \\\n",
       "0   39          State-gov   77516   Bachelors             13   \n",
       "1   50   Self-emp-not-inc   83311   Bachelors             13   \n",
       "2   38            Private  215646     HS-grad              9   \n",
       "3   53            Private  234721        11th              7   \n",
       "4   28            Private  338409   Bachelors             13   \n",
       "\n",
       "        marital_status          occupation    relationship    race      sex  \\\n",
       "0        Never-married        Adm-clerical   Not-in-family   White     Male   \n",
       "1   Married-civ-spouse     Exec-managerial         Husband   White     Male   \n",
       "2             Divorced   Handlers-cleaners   Not-in-family   White     Male   \n",
       "3   Married-civ-spouse   Handlers-cleaners         Husband   Black     Male   \n",
       "4   Married-civ-spouse      Prof-specialty            Wife   Black   Female   \n",
       "\n",
       "   capital_gain  capital_loss  hours_per_week  native_country   class  \n",
       "0          2174             0              40   United-States   <=50K  \n",
       "1             0             0              13   United-States   <=50K  \n",
       "2             0             0              40   United-States   <=50K  \n",
       "3             0             0              40   United-States   <=50K  \n",
       "4             0             0              40            Cuba   <=50K  "
      ]
     },
     "execution_count": 10,
     "metadata": {},
     "output_type": "execute_result"
    }
   ],
   "source": [
    "#df_objects = df.select_dtypes(include=[object])\n",
    "df.head()"
   ]
  },
  {
   "cell_type": "code",
   "execution_count": 11,
   "metadata": {
    "collapsed": true
   },
   "outputs": [],
   "source": [
    "df = df.apply(lambda x:x.fillna(x.value_counts().index[0]))\n",
    "classifier=[]"
   ]
  },
  {
   "cell_type": "code",
   "execution_count": 12,
   "metadata": {
    "collapsed": true
   },
   "outputs": [],
   "source": [
    "x=df.drop('class',axis=1)\n",
    "x=pd.get_dummies(x)\n",
    "y=df['class']\n",
    "#y=pd.get_dummies(y)\n",
    "l=preprocessing.LabelEncoder()\n",
    "y=l.fit_transform(y)\n",
    "from sklearn.model_selection import train_test_split\n",
    "x_train,x_test,y_train,y_test=train_test_split(x,y,test_size=0.2,random_state=42)"
   ]
  },
  {
   "cell_type": "code",
   "execution_count": 60,
   "metadata": {},
   "outputs": [
    {
     "name": "stdout",
     "output_type": "stream",
     "text": [
      "0.861354214648\n",
      "{'max_depth': 20, 'n_estimators': 30}\n",
      "             precision    recall  f1-score   support\n",
      "\n",
      "          0       0.88      0.94      0.91      4942\n",
      "          1       0.77      0.61      0.68      1571\n",
      "\n",
      "avg / total       0.86      0.86      0.86      6513\n",
      "\n"
     ]
    }
   ],
   "source": [
    "from sklearn.ensemble import RandomForestClassifier\n",
    "r=RandomForestClassifier()\n",
    "grid={'n_estimators':[15,10,30],'max_depth':[5,10,15,20,25]}\n",
    "gr=GridSearchCV(r,grid,cv=10)\n",
    "gr.fit(x_train,y_train)\n",
    "y_p=gr.predict(x_test)\n",
    "#r.fit(x_train,y_train)\n",
    "#y_p=r.predict(x_test)\n",
    "#confusion_matrix(y_test,y_p)\n",
    "print(accuracy_score(y_test,y_p))  \n",
    "print(gr.best_params_)\n",
    "classifier.append(gr.best_estimator_)\n",
    "from sklearn.metrics import classification_report\n",
    "cr=classification_report(y_test,y_p)\n",
    "print(cr)"
   ]
  },
  {
   "cell_type": "code",
   "execution_count": 76,
   "metadata": {},
   "outputs": [
    {
     "name": "stdout",
     "output_type": "stream",
     "text": [
      "0.799477967143\n",
      "{'max_iter': 100}\n",
      "             precision    recall  f1-score   support\n",
      "\n",
      "          0       0.81      0.97      0.88      4942\n",
      "          1       0.73      0.27      0.39      1571\n",
      "\n",
      "avg / total       0.79      0.80      0.76      6513\n",
      "\n"
     ]
    }
   ],
   "source": [
    "from sklearn.linear_model import LogisticRegression\n",
    "l=LogisticRegression()\n",
    "grid={'max_iter':[100,50,200]}\n",
    "gr=GridSearchCV(l,grid,cv=10)\n",
    "gr.fit(x_train,y_train)\n",
    "y_p=gr.predict(x_test)\n",
    "#l.fit(x_train,y_train)\n",
    "#y_p=l.predict(x_test)\n",
    "confusion_matrix(y_test,y_p)\n",
    "print(accuracy_score(y_test,y_p))\n",
    "print(gr.best_params_)\n",
    "classifier.append(gr.best_estimator_)\n",
    "from sklearn.metrics import classification_report\n",
    "cr=classification_report(y_test,y_p)\n",
    "print(cr)"
   ]
  },
  {
   "cell_type": "code",
   "execution_count": 75,
   "metadata": {},
   "outputs": [
    {
     "name": "stdout",
     "output_type": "stream",
     "text": [
      "0.859358206664\n",
      "{'max_depth': 10}\n",
      "             precision    recall  f1-score   support\n",
      "\n",
      "          0       0.88      0.94      0.91      4942\n",
      "          1       0.77      0.60      0.67      1571\n",
      "\n",
      "avg / total       0.85      0.86      0.85      6513\n",
      "\n"
     ]
    }
   ],
   "source": [
    "from sklearn.tree import DecisionTreeClassifier\n",
    "d=DecisionTreeClassifier()\n",
    "grid={'max_depth':[5,10,15,20,25]}\n",
    "gr=GridSearchCV(d,grid,cv=10)\n",
    "gr.fit(x_train,y_train)\n",
    "y_p=gr.predict(x_test)\n",
    "#d.fit(x_train,y_train)\n",
    "#y_p=d.predict(x_test)\n",
    "confusion_matrix(y_test,y_p)\n",
    "print(accuracy_score(y_test,y_p))\n",
    "print(gr.best_params_)\n",
    "classifier.append(gr.best_estimator_)\n",
    "cr=classification_report(y_test,y_p)\n",
    "print(cr)"
   ]
  },
  {
   "cell_type": "code",
   "execution_count": 63,
   "metadata": {},
   "outputs": [
    {
     "name": "stdout",
     "output_type": "stream",
     "text": [
      "0.799170888991\n",
      "{'max_depth': 10}\n",
      "             precision    recall  f1-score   support\n",
      "\n",
      "          0       0.81      0.95      0.88      4942\n",
      "          1       0.68      0.32      0.43      1571\n",
      "\n",
      "avg / total       0.78      0.80      0.77      6513\n",
      "\n"
     ]
    }
   ],
   "source": [
    "from sklearn.naive_bayes import GaussianNB\n",
    "n=GaussianNB()\n",
    "y_p=gr.predict(x_test)\n",
    "n.fit(x_train,y_train)\n",
    "y_p=n.predict(x_test)\n",
    "confusion_matrix(y_test,y_p)\n",
    "print(accuracy_score(y_test,y_p)) \n",
    "print(gr.best_params_)\n",
    "from sklearn.metrics import classification_report\n",
    "cr=classification_report(y_test,y_p)\n",
    "print(cr)"
   ]
  },
  {
   "cell_type": "code",
   "execution_count": 74,
   "metadata": {},
   "outputs": [
    {
     "name": "stdout",
     "output_type": "stream",
     "text": [
      "0.758790112084\n",
      "{'alpha': 0.0001, 'max_iter': 100}\n",
      "             precision    recall  f1-score   support\n",
      "\n",
      "          0       0.76      1.00      0.86      4942\n",
      "          1       0.00      0.00      0.00      1571\n",
      "\n",
      "avg / total       0.58      0.76      0.65      6513\n",
      "\n"
     ]
    }
   ],
   "source": [
    "from sklearn.neural_network import MLPClassifier\n",
    "nn=MLPClassifier(1)\n",
    "grid={'max_iter':[50,100,200],'alpha':[0.001,0.0001]}\n",
    "gr=GridSearchCV(nn,grid,cv=10)\n",
    "gr.fit(x_train,y_train)\n",
    "y_p=gr.predict(x_test)\n",
    "#nn.fit(x_train,y_train)\n",
    "#y_p=nn.predict(x_test)\n",
    "confusion_matrix(y_test,y_p)\n",
    "print(accuracy_score(y_test,y_p))\n",
    "print(gr.best_params_)\n",
    "classifier.append(gr.best_estimator_)\n",
    "cr=classification_report(y_test,y_p)\n",
    "print(cr)"
   ]
  },
  {
   "cell_type": "code",
   "execution_count": 73,
   "metadata": {},
   "outputs": [
    {
     "name": "stdout",
     "output_type": "stream",
     "text": [
      "0.758790112084\n",
      "{'alpha': 0.0001, 'max_iter': 100}\n",
      "             precision    recall  f1-score   support\n",
      "\n",
      "          0       0.76      1.00      0.86      4942\n",
      "          1       0.00      0.00      0.00      1571\n",
      "\n",
      "avg / total       0.58      0.76      0.65      6513\n",
      "\n"
     ]
    }
   ],
   "source": [
    "#DEEP LEARNING WITH NN OF MULIPLE LAYERS\n",
    "from sklearn.neural_network import MLPClassifier\n",
    "nn=MLPClassifier((2,2,2),activation='relu')\n",
    "grid={'max_iter':[50,100,200],'alpha':[0.001,0.0001]}\n",
    "gr=GridSearchCV(nn,grid,cv=10)\n",
    "gr.fit(x_train,y_train)\n",
    "y_p=gr.predict(x_test)\n",
    "#nn.fit(x_train,y_train)\n",
    "#y_p=nn.predict(x_test)\n",
    "confusion_matrix(y_test,y_p)\n",
    "print(accuracy_score(y_test,y_p))\n",
    "print(gr.best_params_)\n",
    "classifier.append(gr.best_estimator_)\n",
    "cr=classification_report(y_test,y_p)\n",
    "print(cr)"
   ]
  },
  {
   "cell_type": "code",
   "execution_count": 72,
   "metadata": {},
   "outputs": [
    {
     "name": "stdout",
     "output_type": "stream",
     "text": [
      "0.781053278059\n",
      "{'alpha': 1e-05}\n",
      "             precision    recall  f1-score   support\n",
      "\n",
      "          0       0.78      1.00      0.87      4942\n",
      "          1       0.88      0.11      0.19      1571\n",
      "\n",
      "avg / total       0.80      0.78      0.71      6513\n",
      "\n"
     ]
    }
   ],
   "source": [
    "from sklearn.linear_model import Perceptron\n",
    "p=Perceptron()\n",
    "grid={'alpha':[0.00001,0.001,0.01]}\n",
    "gr=GridSearchCV(p,grid,cv=10)\n",
    "gr.fit(x_train,y_train)\n",
    "y_p=gr.predict(x_test)\n",
    "#p.fit(x_train,y_train)\n",
    "#y_p=p.predict(x_test)\n",
    "confusion_matrix(y_test,y_p)\n",
    "print(accuracy_score(y_test,y_p))\n",
    "print(gr.best_params_)\n",
    "classifier.append(gr.best_estimator_)\n",
    "cr=classification_report(y_test,y_p)\n",
    "print(cr)"
   ]
  },
  {
   "cell_type": "code",
   "execution_count": 71,
   "metadata": {},
   "outputs": [
    {
     "name": "stdout",
     "output_type": "stream",
     "text": [
      "0.79778903731\n",
      "             precision    recall  f1-score   support\n",
      "\n",
      "          0       0.80      0.98      0.88      4942\n",
      "          1       0.78      0.23      0.35      1571\n",
      "\n",
      "avg / total       0.79      0.80      0.75      6513\n",
      "\n"
     ]
    }
   ],
   "source": [
    "from sklearn.neighbors import KNeighborsClassifier\n",
    "k=KNeighborsClassifier(5)\n",
    "grid={'n_neighbors':[3,5,10]}\n",
    "gr=GridSearchCV(k,grid,cv=10)\n",
    "gr.fit(x_train,y_train)\n",
    "y_p=gr.predict(x_test)\n",
    "#k.fit(x_train,y_train)\n",
    "#k.predict(x_test)\n",
    "confusion_matrix(y_test,y_p)\n",
    "print(accuracy_score(y_test,y_p))\n",
    "gr.best_params_\n",
    "classifier.append(gr.best_estimator_)\n",
    "cr=classification_report(y_test,y_p)\n",
    "print(cr)"
   ]
  },
  {
   "cell_type": "code",
   "execution_count": 67,
   "metadata": {},
   "outputs": [
    {
     "name": "stdout",
     "output_type": "stream",
     "text": [
      "0.862275449102\n",
      "{'n_estimators': 10}\n",
      "             precision    recall  f1-score   support\n",
      "\n",
      "          0       0.89      0.94      0.91      4942\n",
      "          1       0.76      0.63      0.69      1571\n",
      "\n",
      "avg / total       0.86      0.86      0.86      6513\n",
      "\n"
     ]
    }
   ],
   "source": [
    "from sklearn.ensemble import BaggingClassifier\n",
    "rr=RandomForestClassifier()\n",
    "bb=BaggingClassifier(rr)\n",
    "grid={'n_estimators':[5,10]}\n",
    "gr=GridSearchCV(bb,grid,cv=10,n_jobs=1)\n",
    "gr.fit(x_train,y_train)\n",
    "y_p=gr.predict(x_test)\n",
    "#bb.fit(x_train,y_train)\n",
    "#y_p=bb.predict(x_test)\n",
    "confusion_matrix(y_test,y_p)\n",
    "print(accuracy_score(y_test,y_p))\n",
    "print(gr.best_params_)\n",
    "classifier.append(gr.best_estimator_)\n",
    "cr=classification_report(y_test,y_p)\n",
    "print(cr)"
   ]
  },
  {
   "cell_type": "code",
   "execution_count": 70,
   "metadata": {},
   "outputs": [
    {
     "name": "stdout",
     "output_type": "stream",
     "text": [
      "0.796407185629\n",
      "{'learning_rate': 0.1, 'n_estimators': 5}\n",
      "             precision    recall  f1-score   support\n",
      "\n",
      "          0       0.79      1.00      0.88      4942\n",
      "          1       1.00      0.16      0.27      1571\n",
      "\n",
      "avg / total       0.84      0.80      0.73      6513\n",
      "\n"
     ]
    }
   ],
   "source": [
    "from sklearn.ensemble import AdaBoostClassifier\n",
    "ad=AdaBoostClassifier()\n",
    "grid={'n_estimators':[5,10],'learning_rate':[0.1]}\n",
    "gr=GridSearchCV(ad,grid,cv=10)\n",
    "gr.fit(x_train,y_train)\n",
    "y_p=gr.predict(x_test)\n",
    "#ad.fit(x_train,y_train)\n",
    "#y_p=ad.predict(x_test)\n",
    "#print(confusion_matrix(y_test,y_p))\n",
    "print(accuracy_score(y_test,y_p)) \n",
    "print(gr.best_params_)\n",
    "classifier.append(gr.best_estimator_)\n",
    "cr=classification_report(y_test,y_p)\n",
    "print(cr)"
   ]
  },
  {
   "cell_type": "code",
   "execution_count": 77,
   "metadata": {},
   "outputs": [
    {
     "name": "stdout",
     "output_type": "stream",
     "text": [
      "0.871334254568\n",
      "{'learning_rate': 0.1, 'n_estimators': 10}\n",
      "             precision    recall  f1-score   support\n",
      "\n",
      "          0       0.89      0.95      0.92      4942\n",
      "          1       0.80      0.62      0.70      1571\n",
      "\n",
      "avg / total       0.87      0.87      0.87      6513\n",
      "\n"
     ]
    }
   ],
   "source": [
    "from sklearn.ensemble import GradientBoostingClassifier\n",
    "gb=GradientBoostingClassifier()\n",
    "grid={'n_estimators':[5,10],'learning_rate':[0.1]}\n",
    "gr=GridSearchCV(gb,grid,cv=10)\n",
    "gr.fit(x_train,y_train)\n",
    "y_p=gr.predict(x_test)\n",
    "gb.fit(x_train,y_train)\n",
    "y_p=gb.predict(x_test)\n",
    "confusion_matrix(y_test,y_p)\n",
    "print(accuracy_score(y_test,y_p))\n",
    "print(gr.best_params_)\n",
    "classifier.append(gr.best_estimator_)\n",
    "cr=classification_report(y_test,y_p)\n",
    "print(cr)"
   ]
  },
  {
   "cell_type": "code",
   "execution_count": null,
   "metadata": {
    "collapsed": true
   },
   "outputs": [],
   "source": [
    "from sklearn import svm\n",
    "clf = svm.SVC(kernel='rbf',gamma=0.1,decision_function_shape='ovo', probability=True)\n",
    "clf.fit(x_train, y_train)\n",
    "y_p=clf.predict(x_test)\n",
    "confusion_matrix(y_test,y_p)\n",
    "print(accuracy_score(y_test,y_p))\n",
    "cr=classification_report(y_test,y_p)\n",
    "print(cr)\n",
    "classifier.append(clf)"
   ]
  },
  {
   "cell_type": "code",
   "execution_count": null,
   "metadata": {},
   "outputs": [],
   "source": [
    "from sklearn.model_selection import KFold\n",
    "folds=10\n",
    "k=KFold(n_splits=10)\n",
    "for train,test in  k.split(x_train,y_train):\n",
    "    acc=[]\n",
    "    for c in classifier:\n",
    "        c.fit(x_train,y_train)\n",
    "        y_p=c.predict(x_test)\n",
    "        acc=accuracy_score(y_test,y_p)\n",
    "        cr=classification_report(y_test,y_p)\n",
    "        print(cr)\n",
    "        print(c,acc)\n",
    "gr.best_params_\n",
    "classifier.append(gr.best_estimator_)\n",
    "cr=classification_report(y_test,y_p)\n",
    "print(cr)"
   ]
  },
  {
   "cell_type": "code",
   "execution_count": 5,
   "metadata": {},
   "outputs": [
    {
     "name": "stderr",
     "output_type": "stream",
     "text": [
      "Using TensorFlow backend.\n"
     ]
    }
   ],
   "source": [
    "from keras.models import Sequential\n",
    "from keras.layers import Dense\n",
    "from keras.wrappers.scikit_learn import KerasClassifier\n",
    "from sklearn.model_selection import StratifiedKFold\n",
    "from sklearn.model_selection import cross_val_score\n",
    "import numpy\n",
    "from keras.models import Sequential\n",
    "from keras.layers import Dense\n",
    "from keras.wrappers.scikit_learn import KerasClassifier\n",
    "from keras.utils import np_utils\n",
    "from sklearn.model_selection import cross_val_score\n",
    "from sklearn.model_selection import KFold\n",
    "from sklearn.preprocessing import LabelEncoder\n",
    "from sklearn.pipeline import Pipeline\n",
    " \n",
    "# Function to create model, required for KerasClassifier\n",
    "def create_model():\n",
    "# create model\n",
    "    model = Sequential()\n",
    "    model.add(Dense(12, input_dim=8, activation='relu'))\n",
    "    model.add(Dense(8, activation='relu'))\n",
    "    model.add(Dense(1, activation='sigmoid'))\n",
    "# Compile model\n",
    "    model.compile(loss='binary_crossentropy', optimizer='adam', metrics=['accuracy'])\n",
    "    return model\n",
    " \n",
    "# fix random seed for reproducibility\n",
    "seed = 7\n",
    "numpy.random.seed(seed)\n",
    "model = KerasClassifier(build_fn=create_model, epochs=150, batch_size=5, verbose=0)\n"
   ]
  },
  {
   "cell_type": "code",
   "execution_count": null,
   "metadata": {},
   "outputs": [],
   "source": []
  },
  {
   "cell_type": "code",
   "execution_count": null,
   "metadata": {
    "collapsed": true
   },
   "outputs": [],
   "source": []
  }
 ],
 "metadata": {
  "kernelspec": {
   "display_name": "Python 2",
   "language": "python",
   "name": "python2"
  },
  "language_info": {
   "codemirror_mode": {
    "name": "ipython",
    "version": 3
   },
   "file_extension": ".py",
   "mimetype": "text/x-python",
   "name": "python",
   "nbconvert_exporter": "python",
   "pygments_lexer": "ipython3",
   "version": "3.6.2"
  }
 },
 "nbformat": 4,
 "nbformat_minor": 2
}

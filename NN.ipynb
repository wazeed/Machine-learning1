{
 "cells": [
  {
   "cell_type": "code",
   "execution_count": 16,
   "metadata": {
    "collapsed": true
   },
   "outputs": [],
   "source": [
    "import numpy as np\n",
    "import math as m"
   ]
  },
  {
   "cell_type": "code",
   "execution_count": 80,
   "metadata": {},
   "outputs": [],
   "source": [
    "nn=[]\n",
    "class node:\n",
    "    def __init__(self,w,l,n):\n",
    "        self.weights=np.array(w)\n",
    "        self.layer=l\n",
    "        self.n=n\n",
    "    def output(self,x):\n",
    "        self.x=np.array(x)\n",
    "        s=np.sum(self.weights*self.x)\n",
    "        return self.sigmoid(s)\n",
    "    def sigmoid(self,z):\n",
    "            self.e= 1/(m.e**z)\n",
    "            self.sig= 1/(1+self.e)\n",
    "            return self.sig*(1-self.sig)\n",
    "    def get_position(self):\n",
    "            print ((self.layer,self.n))\n",
    "        \n",
    "class layer:\n",
    "    def __init__(self,l,n):\n",
    "        self.l=l\n",
    "        self.n=n\n",
    "        self.out=[]\n",
    "    def out_l(self,inp):\n",
    "        self.inp=inp\n",
    "        self.weights=np.zeros([self.n,np.size(inp)])\n",
    "        for i in range(self.n):\n",
    "            self.w=np.random.rand(np.size(self.inp))\n",
    "            np.append(self.weights, self.w)\n",
    "            self.m=node(self.w,self.l,i)\n",
    "            self.out.append(self.m.output(self.inp))\n",
    "    def inp_nxt(self):\n",
    "        return(self.out)\n",
    "    def weights(self):\n",
    "        return(self.weights)\n",
    "    def siz(self):\n",
    "        return(self.n)\n",
    "    def deltas(self,delta):\n",
    "        self.deltas=delta\n",
    "        \n",
    "\n",
    "\n",
    "def Neural(w,x,neta,y):\n",
    "    l=deltaO=deltaH=[]\n",
    "    n=su=0\n",
    "    numL=w[0]\n",
    "    for i in range(numL):\n",
    "        l.append(layer(i,w[i+1]))\n",
    "    for j in range(numL):\n",
    "        l[j].out_l(x)\n",
    "        x=l[j].inp_nxt()\n",
    "        d=len(l)\n",
    "    for j in range(len(x)):\n",
    "        deltaO.append((y[j]-x[j])*x[j]*(1-x[j]))\n",
    "    l[d-1].deltas(deltaO)\n",
    "    delO=deltaO\n",
    "    for i in range(2,len(l)): \n",
    "        a=d-2\n",
    "        w=l[a].weights\n",
    "        o=l[a].inp_nxt()\n",
    "        s=l[i].siz()\n",
    "        a=a-2\n",
    "        for j in range(s):\n",
    "            for k in range(n):\n",
    "                su+=deltaO[k]*w[k][j]\n",
    "            deltaH.append(o[j]*(1-o[j])*su)\n",
    "        l[len(l)-l].deltas(deltaH)\n",
    "        deltaO=deltaH\n",
    "            \n",
    "            \n",
    "            \n",
    "    \n",
    "    \n",
    "  \n",
    "        \n",
    "\n",
    "    "
   ]
  },
  {
   "cell_type": "code",
   "execution_count": 81,
   "metadata": {},
   "outputs": [
    {
     "ename": "TypeError",
     "evalue": "unsupported operand type(s) for -: 'int' and 'list'",
     "output_type": "error",
     "traceback": [
      "\u001b[0;31m---------------------------------------------------------------------------\u001b[0m",
      "\u001b[0;31mTypeError\u001b[0m                                 Traceback (most recent call last)",
      "\u001b[0;32m<ipython-input-81-fe704d56e094>\u001b[0m in \u001b[0;36m<module>\u001b[0;34m()\u001b[0m\n\u001b[0;32m----> 1\u001b[0;31m \u001b[0mNeural\u001b[0m\u001b[0;34m(\u001b[0m\u001b[0;34m[\u001b[0m\u001b[0;36m5\u001b[0m\u001b[0;34m,\u001b[0m\u001b[0;36m1\u001b[0m\u001b[0;34m,\u001b[0m\u001b[0;36m2\u001b[0m\u001b[0;34m,\u001b[0m\u001b[0;36m3\u001b[0m\u001b[0;34m,\u001b[0m\u001b[0;36m4\u001b[0m\u001b[0;34m,\u001b[0m\u001b[0;36m5\u001b[0m\u001b[0;34m]\u001b[0m\u001b[0;34m,\u001b[0m\u001b[0;34m[\u001b[0m\u001b[0;36m1\u001b[0m\u001b[0;34m,\u001b[0m\u001b[0;36m2\u001b[0m\u001b[0;34m,\u001b[0m\u001b[0;36m3\u001b[0m\u001b[0;34m,\u001b[0m\u001b[0;36m4\u001b[0m\u001b[0;34m,\u001b[0m\u001b[0;36m5\u001b[0m\u001b[0;34m]\u001b[0m\u001b[0;34m,\u001b[0m\u001b[0;36m0.01\u001b[0m\u001b[0;34m,\u001b[0m\u001b[0;34m[\u001b[0m\u001b[0;36m1\u001b[0m\u001b[0;34m,\u001b[0m\u001b[0;36m2\u001b[0m\u001b[0;34m,\u001b[0m\u001b[0;36m3\u001b[0m\u001b[0;34m,\u001b[0m\u001b[0;36m4\u001b[0m\u001b[0;34m,\u001b[0m\u001b[0;36m5\u001b[0m\u001b[0;34m]\u001b[0m\u001b[0;34m)\u001b[0m\u001b[0;34m\u001b[0m\u001b[0m\n\u001b[0m",
      "\u001b[0;32m<ipython-input-80-fd7b3a7c111d>\u001b[0m in \u001b[0;36mNeural\u001b[0;34m(w, x, neta, y)\u001b[0m\n\u001b[1;32m     64\u001b[0m                 \u001b[0msu\u001b[0m\u001b[0;34m+=\u001b[0m\u001b[0mdeltaO\u001b[0m\u001b[0;34m[\u001b[0m\u001b[0mk\u001b[0m\u001b[0;34m]\u001b[0m\u001b[0;34m*\u001b[0m\u001b[0mw\u001b[0m\u001b[0;34m[\u001b[0m\u001b[0mk\u001b[0m\u001b[0;34m]\u001b[0m\u001b[0;34m[\u001b[0m\u001b[0mj\u001b[0m\u001b[0;34m]\u001b[0m\u001b[0;34m\u001b[0m\u001b[0m\n\u001b[1;32m     65\u001b[0m             \u001b[0mdeltaH\u001b[0m\u001b[0;34m.\u001b[0m\u001b[0mappend\u001b[0m\u001b[0;34m(\u001b[0m\u001b[0mo\u001b[0m\u001b[0;34m[\u001b[0m\u001b[0mj\u001b[0m\u001b[0;34m]\u001b[0m\u001b[0;34m*\u001b[0m\u001b[0;34m(\u001b[0m\u001b[0;36m1\u001b[0m\u001b[0;34m-\u001b[0m\u001b[0mo\u001b[0m\u001b[0;34m[\u001b[0m\u001b[0mj\u001b[0m\u001b[0;34m]\u001b[0m\u001b[0;34m)\u001b[0m\u001b[0;34m*\u001b[0m\u001b[0msu\u001b[0m\u001b[0;34m)\u001b[0m\u001b[0;34m\u001b[0m\u001b[0m\n\u001b[0;32m---> 66\u001b[0;31m         \u001b[0ml\u001b[0m\u001b[0;34m[\u001b[0m\u001b[0mlen\u001b[0m\u001b[0;34m(\u001b[0m\u001b[0ml\u001b[0m\u001b[0;34m)\u001b[0m\u001b[0;34m-\u001b[0m\u001b[0ml\u001b[0m\u001b[0;34m]\u001b[0m\u001b[0;34m.\u001b[0m\u001b[0mdeltas\u001b[0m\u001b[0;34m(\u001b[0m\u001b[0mdeltaH\u001b[0m\u001b[0;34m)\u001b[0m\u001b[0;34m\u001b[0m\u001b[0m\n\u001b[0m\u001b[1;32m     67\u001b[0m         \u001b[0mdeltaO\u001b[0m\u001b[0;34m=\u001b[0m\u001b[0mdeltaH\u001b[0m\u001b[0;34m\u001b[0m\u001b[0m\n\u001b[1;32m     68\u001b[0m \u001b[0;34m\u001b[0m\u001b[0m\n",
      "\u001b[0;31mTypeError\u001b[0m: unsupported operand type(s) for -: 'int' and 'list'"
     ]
    }
   ],
   "source": [
    "Neural([5,1,2,3,4,5],[1,2,3,4,5],0.01,[1,2,3,4,5])"
   ]
  },
  {
   "cell_type": "code",
   "execution_count": 73,
   "metadata": {},
   "outputs": [
    {
     "ename": "SyntaxError",
     "evalue": "unexpected EOF while parsing (<ipython-input-73-fa17c6876dae>, line 2)",
     "output_type": "error",
     "traceback": [
      "\u001b[0;36m  File \u001b[0;32m\"<ipython-input-73-fa17c6876dae>\"\u001b[0;36m, line \u001b[0;32m2\u001b[0m\n\u001b[0;31m    \u001b[0m\n\u001b[0m    ^\u001b[0m\n\u001b[0;31mSyntaxError\u001b[0m\u001b[0;31m:\u001b[0m unexpected EOF while parsing\n"
     ]
    }
   ],
   "source": [
    "def Back_Prop():\n",
    "    "
   ]
  },
  {
   "cell_type": "code",
   "execution_count": null,
   "metadata": {
    "collapsed": true
   },
   "outputs": [],
   "source": []
  },
  {
   "cell_type": "code",
   "execution_count": null,
   "metadata": {
    "collapsed": true
   },
   "outputs": [],
   "source": [
    "        "
   ]
  },
  {
   "cell_type": "code",
   "execution_count": null,
   "metadata": {
    "collapsed": true
   },
   "outputs": [],
   "source": []
  }
 ],
 "metadata": {
  "kernelspec": {
   "display_name": "Python 3",
   "language": "python",
   "name": "python3"
  },
  "language_info": {
   "codemirror_mode": {
    "name": "ipython",
    "version": 3
   },
   "file_extension": ".py",
   "mimetype": "text/x-python",
   "name": "python",
   "nbconvert_exporter": "python",
   "pygments_lexer": "ipython3",
   "version": "3.6.2"
  }
 },
 "nbformat": 4,
 "nbformat_minor": 2
}
